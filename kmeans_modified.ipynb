{
 "cells": [
  {
   "cell_type": "markdown",
   "metadata": {},
   "source": [
    "## K-meas Algorithm on Gesture Phase Segmentation  \n",
    "- Program: HW3.py\n",
    "- Programmed By: Junya Zhao\n",
    "- Trace Folder: Junya009\n"
   ]
  },
  {
   "cell_type": "code",
   "execution_count": 1,
   "metadata": {
    "collapsed": true
   },
   "outputs": [],
   "source": [
    "import random\n",
    "import math\n",
    "import csv\n",
    "import seaborn as sns"
   ]
  },
  {
   "cell_type": "code",
   "execution_count": 2,
   "metadata": {
    "collapsed": true
   },
   "outputs": [],
   "source": [
    "def getData(Ogrinaldata):\n",
    "    data=[]\n",
    "    for i in range(len(Ogrinaldata)):\n",
    "        data.append(Ogrinaldata[i][0:32])\n",
    "    return data"
   ]
  },
  {
   "cell_type": "code",
   "execution_count": 3,
   "metadata": {
    "collapsed": true
   },
   "outputs": [],
   "source": [
    "def getLabel(Ogrinaldata):    \n",
    "    label=[]\n",
    "    for i in range(len(Ogrinaldata)):\n",
    "        label.append(Ogrinaldata[i][-1])\n",
    "    return label"
   ]
  },
  {
   "cell_type": "code",
   "execution_count": 4,
   "metadata": {
    "collapsed": true
   },
   "outputs": [],
   "source": [
    "\"\"\"\n",
    "D -0 (rest position, from portuguese \"descanso\") \n",
    "P -1 (preparation) \n",
    "S -2 (stroke)\n",
    "H -3 (hold) \n",
    "R -4 (retraction) \n",
    "\"\"\"\n",
    "    \n",
    "\"\"\"\n",
    "#______________________________This part for raw data________________________#        \n",
    "\n",
    "        for i in range(len(data)):\n",
    "            if data[i][-1]== 'Rest':\n",
    "                data[i][-1]= 0\n",
    "                result.append(data[i])\n",
    "            if data[i][-1]== \"Preparation\":\n",
    "                data[i][-1]= 1\n",
    "                result.append(data[i])\n",
    "            if data[i][-1]== \"Stroke\":\n",
    "                data[i][-1]= 2\n",
    "                result.append(data[i])\n",
    "            if data[i][-1]== \"Hold\":\n",
    "                data[i][-1]= 3\n",
    "                result.append(data[i])\n",
    "            if data[i][-1]== \"Retraction\":\n",
    "                data[i][-1]= 4\n",
    "                result.append(data[i])\n",
    "\n",
    "#_____________________________________________________________________________#\n",
    "\"\"\"\n",
    "def getKey(item):\n",
    "    return item[-1]\n",
    "def sortOrginalData(filename):\n",
    "    result =[]\n",
    "    with open(filename, 'r') as file:\n",
    "        csv_reader = csv.reader(file)\n",
    "        data = list(csv_reader)# get a list of all values\n",
    "        del(data[0]) # delete the header\n",
    "        #D,P,S,H,R =[],[],[],[],[]\n",
    "        result=[]\n",
    "        for i in range(len(data)):\n",
    "            if data[i][-1]== 'D':\n",
    "                data[i][-1]= 0\n",
    "                result.append(data[i])\n",
    "            if data[i][-1]== \"P\":\n",
    "                data[i][-1]= 1\n",
    "                result.append(data[i])\n",
    "            if data[i][-1]== \"S\":\n",
    "                data[i][-1]= 2\n",
    "                result.append(data[i])\n",
    "            if data[i][-1]== \"H\":\n",
    "                data[i][-1]= 3\n",
    "                result.append(data[i])\n",
    "            if data[i][-1]== \"R\":\n",
    "                data[i][-1]= 4\n",
    "                result.append(data[i])\n",
    "        result = sorted(result, key=getKey)\n",
    "        #Input = getData(result)\n",
    "        Input = [list(map(float, d)) for d in result]\n",
    "        return Input"
   ]
  },
  {
   "cell_type": "code",
   "execution_count": 5,
   "metadata": {
    "collapsed": true
   },
   "outputs": [],
   "source": [
    "def Distance(data, centroid):\n",
    "    distance= 0\n",
    "    for i in range(len(data)):\n",
    "        distance += math.pow(data[i] - centroid[i],2)\n",
    "    return math.sqrt(distance)"
   ]
  },
  {
   "cell_type": "code",
   "execution_count": 6,
   "metadata": {
    "collapsed": true
   },
   "outputs": [],
   "source": [
    "def countNumInCluster(Input,k):\n",
    "    NewCentroids =[]\n",
    "    for x in range(k):\n",
    "        #print(\"Cluster \", x, \"has \" ,label.count(x), \"samples\" )\n",
    "        list_= []\n",
    "        for i in range(len(Input)):\n",
    "            if Input[i][-1]== x:\n",
    "                list_.append(Input[i][0:k-1])\n",
    "        #print(list_)\n",
    "        result=[]\n",
    "        for i in range(len(list_[0])):\n",
    "            MeanValue= []\n",
    "            for j in range(len(list_)):\n",
    "                MeanValue.append(list_[j][i])\n",
    "                means= sum(MeanValue)/len(list_)\n",
    "            #print(means)\n",
    "            result.append(means)\n",
    "        result.insert(len(Input),x)\n",
    "        NewCentroids.append(result)\n",
    "        #print(NewCentroids)\n",
    "    return NewCentroids"
   ]
  },
  {
   "cell_type": "code",
   "execution_count": 7,
   "metadata": {
    "collapsed": true
   },
   "outputs": [],
   "source": [
    "def stopCriterion(counter,MaxValue):\n",
    "    if counter > MaxValue:\n",
    "        return True"
   ]
  },
  {
   "cell_type": "code",
   "execution_count": 8,
   "metadata": {
    "collapsed": true
   },
   "outputs": [],
   "source": [
    "def countNum(OutputData,OrginalLabel,k):\n",
    "    label= getLabel(OutputData)\n",
    "    #print(label)\n",
    "    start=0\n",
    "    end=0\n",
    "    Overallnum=0\n",
    "    for x in range(k):\n",
    "        majority = 0\n",
    "        mylist=[]\n",
    "        print(\"Cluster\",x)\n",
    "        print(\"Size of Cluster \", x, \"is\",label.count(x))\n",
    "        end += OrginalLabel.count(x)\n",
    "        start += OrginalLabel.count(x-1)\n",
    "        #print(start,end)       \n",
    "        misclassified =[]       \n",
    "        for i in range(start,end):\n",
    "            mylist.append(label[i])\n",
    "            majority = max(mylist,key=mylist.count)\n",
    "            if label[i]!=majority:\n",
    "                misclassified.append(OutputData[i])\n",
    "        print(\"Cluster lable is\",majority)\n",
    "        print(\"The number of objects misclassified in this cluster is\",len(misclassified))\n",
    "        Overallnum += len(misclassified)\n",
    "        #print(misclassified)\n",
    "        print(\"========================\")\n",
    "    print(\"Accuracy rate is \",((len(label)-Overallnum)/len(label))*100,\"%\")"
   ]
  },
  {
   "cell_type": "code",
   "execution_count": 9,
   "metadata": {
    "collapsed": true
   },
   "outputs": [],
   "source": [
    "def DistanceClustering(dataset,Centroids):\n",
    "    Output= []# declare an empty list\n",
    "    for sample in dataset:\n",
    "        distance = list()\n",
    "        for center in Centroids:\n",
    "            distance.append(Distance(sample,center))\n",
    "        #print(distance)\n",
    "        sample.insert(len(sample),distance.index(min(distance)))\n",
    "        Output.append(sample)\n",
    "    return Output    "
   ]
  },
  {
   "cell_type": "code",
   "execution_count": 10,
   "metadata": {
    "collapsed": true,
    "scrolled": false
   },
   "outputs": [],
   "source": [
    "def K_means(dataset, k):\n",
    "    counter = 0\n",
    "    random.seed(0)\n",
    "    Centroids = random.sample(dataset,k)\n",
    "    print(\"Initial k-means are:\")\n",
    "    for i in range(len(Centroids)):\n",
    "        print(\"Means[\",i,\"] is\", [Centroids[i],i])\n",
    "    while not stopCriterion(counter,20):\n",
    "        OutputData= DistanceClustering(dataset,Centroids)\n",
    "        NewCentroids = countNumInCluster(OutputData,k)\n",
    "        dataset = getData(OutputData)  \n",
    "        newcentroids = getData(NewCentroids) \n",
    "        Centroids = newcentroids\n",
    "       # counter= counter+1\n",
    "        return OutputData"
   ]
  },
  {
   "cell_type": "code",
   "execution_count": 11,
   "metadata": {},
   "outputs": [
    {
     "name": "stdout",
     "output_type": "stream",
     "text": [
      "Initial k-means are:\n",
      "Means[ 0 ] is [[0.02390379, -0.00278624, 0.00012198, 0.02714686, -0.00238771, -9.95e-06, -1.318e-05, -0.00082277, 0.00013438, 6.315e-05, -0.00113453, -0.00143474, 0.00763933, -0.00134646, 3.229e-05, 0.00756226, 0.00058848, 0.00023189, 0.00265316, -0.00137447, 0.00030702, 0.00365606, -0.00102077, -0.0001181, 0.02406593, 0.02725167, 0.00083377, 0.00183019, 0.00775715, 0.00758866, 0.00300378, 0.00379772, 4.0], 0]\n",
      "Means[ 1 ] is [[0.01843466, 0.00153093, -3.962e-05, -0.01421072, 0.01552211, 0.00241397, 0.00954371, 0.00411838, -0.00118041, -0.01047047, 0.01143073, 0.00074347, 5.24e-06, -7.31e-06, 7.078e-05, -0.00261199, 0.0020477, 5.058e-05, -0.00091884, -8.975e-05, -3.407e-05, -0.00102573, 9.016e-05, -0.00027187, 0.01849816, 0.02118272, 0.01046121, 0.01551918, 7.135e-05, 0.00331935, 0.00092384, 0.00106497, 1.0], 1]\n",
      "Means[ 2 ] is [[0.00139266, 0.00764891, 0.0008463, 0.0027016, -0.01618995, -0.00253965, 0.00109246, 0.00743369, 0.00046618, -0.00479096, -0.00826903, -0.00581506, 0.0005729, -0.00267252, -4.567e-05, 0.00030085, 0.00285027, -6.9e-06, 0.0019525, -0.00293945, -0.00059463, -0.00036278, 0.00723869, -0.00057711, 0.00782058, 0.01660912, 0.00752798, 0.01118683, 0.00273361, 0.00286611, 0.00357858, 0.00727071, 4.0], 2]\n",
      "Means[ 3 ] is [[0.0043674, -0.00645552, 0.00062861, -0.00075763, -0.00346807, 0.00062464, 0.00345647, -0.00450946, 0.00063676, -0.00076022, -0.0034688, 0.00062443, 8.946e-05, -0.0001823, 0.00012413, 0.00087778, -0.00208753, -9.403e-05, 4.7e-05, -0.00019805, 9.234e-05, 0.00086629, -0.00209081, -9.514e-05, 0.0078194, 0.0036044, 0.00571734, 0.00360561, 0.000238, 0.00226652, 0.00022352, 0.00226517, 2.0], 3]\n",
      "Means[ 4 ] is [[-0.00065427, -7.279e-05, -9.777e-05, 0.00420591, -0.00157942, 0.00084969, -0.00048762, -5.425e-05, -5.858e-05, -0.00250353, -8.017e-05, -8.612e-05, 5.181e-05, -4.01e-06, 2.93e-06, -0.00024247, 1.447e-05, -5.503e-05, 4.224e-05, -3.05e-06, 7.5e-07, 6.423e-05, -0.00010367, -1.083e-05, 0.00066552, 0.00457233, 0.00049411, 0.00250629, 5.204e-05, 0.00024906, 4.235e-05, 0.00012243, 0.0], 4]\n",
      "Cluster 0\n",
      "Size of Cluster  0 is 12\n",
      "Cluster lable is 4\n",
      "The number of objects misclassified in this cluster is 0\n",
      "========================\n",
      "Cluster 1\n",
      "Size of Cluster  1 is 163\n",
      "Cluster lable is 1\n",
      "The number of objects misclassified in this cluster is 0\n",
      "========================\n",
      "Cluster 2\n",
      "Size of Cluster  2 is 185\n",
      "Cluster lable is 3\n",
      "The number of objects misclassified in this cluster is 0\n",
      "========================\n",
      "Cluster 3\n",
      "Size of Cluster  3 is 689\n",
      "Cluster lable is 3\n",
      "The number of objects misclassified in this cluster is 6\n",
      "========================\n",
      "Cluster 4\n",
      "Size of Cluster  4 is 694\n",
      "Cluster lable is 2\n",
      "The number of objects misclassified in this cluster is 12\n",
      "========================\n",
      "Accuracy rate is  98.9672977624785 %\n",
      "None\n"
     ]
    }
   ],
   "source": [
    "if __name__ == '__main__':\n",
    "    k=5\n",
    "    InputData= sortOrginalData('a1_va3.csv')\n",
    "    InputLabel = getLabel(InputData) # get the orginal label of data(by orders)\n",
    "    OrginalLabel= []\n",
    "    for data in InputLabel:\n",
    "        OrginalLabel.append(int(data))\n",
    "    result = K_means(InputData,k)\n",
    "    num = countNum(result,OrginalLabel,k)\n",
    "    print(num)"
   ]
  }
 ],
 "metadata": {
  "kernelspec": {
   "display_name": "Python 3",
   "language": "python",
   "name": "python3"
  },
  "language_info": {
   "codemirror_mode": {
    "name": "ipython",
    "version": 3
   },
   "file_extension": ".py",
   "mimetype": "text/x-python",
   "name": "python",
   "nbconvert_exporter": "python",
   "pygments_lexer": "ipython3",
   "version": "3.6.1"
  }
 },
 "nbformat": 4,
 "nbformat_minor": 2
}
